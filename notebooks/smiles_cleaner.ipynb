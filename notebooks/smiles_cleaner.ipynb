{
 "cells": [
  {
   "cell_type": "code",
   "execution_count": null,
   "id": "09d0c9b0-8796-41f7-a9c5-600657d61147",
   "metadata": {},
   "outputs": [],
   "source": [
    "import pandas as pd\n",
    "from rdkit.Chem import MolFromSmiles, MolToSmiles\n",
    "from rdkit.Chem.SaltRemover import SaltRemover\n",
    "from tqdm import tqdm"
   ]
  },
  {
   "cell_type": "code",
   "execution_count": null,
   "id": "ccc7d0fc-f116-4711-a763-bc21cf997a51",
   "metadata": {},
   "outputs": [],
   "source": [
    "smiles = pd.read_csv(r\"data\\smiles\\smiles_119.csv\", index_col=0)[\"SMILES\"].to_list()\n",
    "smiles[:10]"
   ]
  },
  {
   "cell_type": "code",
   "execution_count": null,
   "id": "35d3f9f4-02d0-4ee6-ae2a-96d3cc5b0a1e",
   "metadata": {},
   "outputs": [],
   "source": [
    "class SmilesCleaner:\n",
    "    def __init__(self, salt_remover: SaltRemover):\n",
    "        self.salt_remover = salt_remover\n",
    "        \n",
    "    def clean_all_smiles(self, smiles: list[str]) -> list[str]:\n",
    "        cleaned_smiles = set()\n",
    "        for i in tqdm(smiles):\n",
    "            result = self.clean_smiles(i)\n",
    "            if result:\n",
    "                cleaned_smiles.add(result)\n",
    "        return list(cleaned_smiles)\n",
    "        \n",
    "    def clean_smiles(self, smiles: str) -> str:\n",
    "        smiles = self.remove_stereochemistry(smiles)\n",
    "        smiles = self.remove_salts(smiles)\n",
    "        return smiles\n",
    "        \n",
    "    @staticmethod\n",
    "    def remove_stereochemistry(smiles: str) -> str:\n",
    "        return smiles.replace(\"@\", \"\")\n",
    "\n",
    "    def remove_salts(self, smiles: str) -> str:\n",
    "        try:\n",
    "            mol = MolFromSmiles(smiles)\n",
    "            mol = self.salt_remover.StripMol(mol)\n",
    "            return MolToSmiles(mol)\n",
    "        except Exception:\n",
    "            pass"
   ]
  },
  {
   "cell_type": "code",
   "execution_count": null,
   "id": "259078d0-906e-42c5-90f4-c4d8f5d49772",
   "metadata": {},
   "outputs": [],
   "source": [
    "smiles_cleaner = SmilesCleaner(SaltRemover())"
   ]
  },
  {
   "cell_type": "code",
   "execution_count": null,
   "id": "c8b9ba47-f6c8-48cb-96be-71c667017b5c",
   "metadata": {},
   "outputs": [],
   "source": [
    "cleaned_smiles = smiles_cleaner.clean_all_smiles(smiles)"
   ]
  },
  {
   "cell_type": "code",
   "execution_count": null,
   "id": "c970c4f5-b01a-4bb4-b0fd-b1e63c266659",
   "metadata": {},
   "outputs": [],
   "source": [
    "cleaned_smiles[:10]"
   ]
  }
 ],
 "metadata": {
  "kernelspec": {
   "display_name": "Python 3 (ipykernel)",
   "language": "python",
   "name": "python3"
  },
  "language_info": {
   "codemirror_mode": {
    "name": "ipython",
    "version": 3
   },
   "file_extension": ".py",
   "mimetype": "text/x-python",
   "name": "python",
   "nbconvert_exporter": "python",
   "pygments_lexer": "ipython3",
   "version": "3.9.12"
  }
 },
 "nbformat": 4,
 "nbformat_minor": 5
}
