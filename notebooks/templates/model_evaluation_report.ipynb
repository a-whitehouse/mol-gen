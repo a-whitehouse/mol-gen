{
 "cells": [
  {
   "cell_type": "markdown",
   "metadata": {},
   "source": [
    "# Model Evaluation Report"
   ]
  },
  {
   "cell_type": "code",
   "execution_count": null,
   "metadata": {},
   "outputs": [],
   "source": [
    "from pathlib import Path\n",
    "\n",
    "import dask.dataframe as dd\n",
    "import matplotlib.pyplot as plt\n",
    "import numpy as np\n",
    "from IPython.display import Markdown, display\n",
    "from rdkit.Chem import MolFromSmiles\n",
    "from rdkit.Chem.Draw import MolsToGridImage\n",
    "from selfies import decoder, encoder\n",
    "\n",
    "from mol_gen.preprocessing.filter import DESCRIPTOR_TO_FUNCTION\n",
    "from mol_gen.training.molecule_generator import MoleculeGenerator"
   ]
  },
  {
   "cell_type": "code",
   "execution_count": null,
   "metadata": {},
   "outputs": [],
   "source": [
    "train_dir = None\n",
    "checkpoint_dir = None\n",
    "string_lookup_config_filepath = None"
   ]
  },
  {
   "cell_type": "code",
   "execution_count": null,
   "metadata": {},
   "outputs": [],
   "source": [
    "training_data = dd.read_csv(\n",
    "    Path(train_dir) / \"*\",\n",
    "    names=[\"SELFIES\"],\n",
    ")"
   ]
  },
  {
   "cell_type": "code",
   "execution_count": null,
   "metadata": {},
   "outputs": [],
   "source": [
    "for model_filepath in Path(checkpoint_dir).glob(\"model.*.h5\"):\n",
    "    mol_generator = MoleculeGenerator.from_files(\n",
    "        model_filepath, string_lookup_config_filepath\n",
    "    )\n",
    "\n",
    "    display(Markdown(f\"## {model_filepath.name}\"))\n",
    "\n",
    "    mols = mol_generator.generate_molecules(1024)\n",
    "    n_mols = len(mols)\n",
    "\n",
    "    display(Markdown(\"### Duplicates\"))\n",
    "    unique_mols = set(mols)\n",
    "    percent_unique = round(100 * (len(unique_mols) / n_mols))\n",
    "    print(f\"{percent_unique}% of molecules generated unique.\")\n",
    "\n",
    "    display(Markdown(\"### Novelty\"))\n",
    "    repeated = training_data.loc[training_data[\"SELFIES\"].isin(unique_mols)].compute()\n",
    "    percent_repeated = round(100 * (len(repeated) / n_mols))\n",
    "    print(f\"{percent_repeated}% of molecules generated novel.\")\n",
    "\n",
    "    display(Markdown(\"### Validity\"))\n",
    "    smiles = [decoder(i) for i in mols]\n",
    "    valid_mols = [MolFromSmiles(i) for i in smiles if MolFromSmiles(i)]\n",
    "    percent_valid = round(100 * (len(valid_mols) / n_mols))\n",
    "    print(f\"{percent_valid}% of molecules generated valid.\")\n",
    "\n",
    "    display(Markdown(\"### Properties Distribution\"))\n",
    "    for descriptor, func in DESCRIPTOR_TO_FUNCTION.items():\n",
    "        values = [func(i) for i in valid_mols]\n",
    "        plt.hist(values, bins=10)\n",
    "        plt.xlabel(descriptor)\n",
    "        plt.ylabel(\"count\")\n",
    "        plt.show()\n",
    "\n",
    "    display(Markdown(\"### Subset\"))\n",
    "    mols_subset = np.random.choice(valid_mols, 100, replace=False)\n",
    "    display(\n",
    "        MolsToGridImage(mols_subset, subImgSize=(500, 500), molsPerRow=5, maxMols=50)\n",
    "    )"
   ]
  }
 ],
 "metadata": {
  "interpreter": {
   "hash": "8570a9ca3b8bf6b03388ea45891206e331d4d85e0184a6b4e50992da33f43ff4"
  },
  "kernelspec": {
   "display_name": "Python 3 (ipykernel)",
   "language": "python",
   "name": "python3"
  },
  "language_info": {
   "codemirror_mode": {
    "name": "ipython",
    "version": 3
   },
   "file_extension": ".py",
   "mimetype": "text/x-python",
   "name": "python",
   "nbconvert_exporter": "python",
   "pygments_lexer": "ipython3",
   "version": "3.10.4"
  }
 },
 "nbformat": 4,
 "nbformat_minor": 4
}
