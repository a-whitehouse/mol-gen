{
 "cells": [
  {
   "cell_type": "markdown",
   "metadata": {},
   "source": [
    "# Model Evaluation Report"
   ]
  },
  {
   "cell_type": "code",
   "execution_count": null,
   "metadata": {
    "tags": [
     "parameters"
    ]
   },
   "outputs": [],
   "source": [
    "train_dir = None\n",
    "checkpoint_path = None\n",
    "string_lookup_config_path = None\n",
    "\n",
    "n_molecules = None\n",
    "subset_size = None"
   ]
  },
  {
   "cell_type": "code",
   "execution_count": null,
   "metadata": {},
   "outputs": [],
   "source": [
    "from pathlib import Path\n",
    "\n",
    "from IPython.display import Markdown, display\n",
    "\n",
    "from mol_gen.molecule_generation.molecule_generator import MoleculeGenerator\n",
    "from mol_gen.training.evaluate import (calculate_percent_selfies_novel,\n",
    "                                       calculate_percent_selfies_valid,\n",
    "                                       calculate_percent_unique,\n",
    "                                       draw_subset_selfies,\n",
    "                                       plot_descriptor_distributions)"
   ]
  },
  {
   "cell_type": "code",
   "execution_count": null,
   "metadata": {},
   "outputs": [],
   "source": [
    "mol_generator = MoleculeGenerator.from_files(checkpoint_path, string_lookup_config_path)\n",
    "\n",
    "display(Markdown(f\"## {Path(checkpoint_path).name}\"))\n",
    "mols = mol_generator.generate_molecules(n_molecules)\n",
    "\n",
    "display(Markdown(\"### Duplicates\"))\n",
    "percent_unique = calculate_percent_unique(mols)\n",
    "print(f\"{percent_unique}% of molecules generated unique.\")\n",
    "\n",
    "display(Markdown(\"### Novelty\"))\n",
    "percent_novel = calculate_percent_selfies_novel(mols, train_dir)\n",
    "print(f\"{percent_novel}% of molecules generated novel.\")\n",
    "\n",
    "display(Markdown(\"### Validity\"))\n",
    "percent_valid = calculate_percent_selfies_valid(mols)\n",
    "print(f\"{percent_valid}% of molecules generated valid.\")\n",
    "\n",
    "display(Markdown(\"### Properties Distribution\"))\n",
    "plot_descriptor_distributions(mols)\n",
    "\n",
    "display(Markdown(\"### Subset\"))\n",
    "display(draw_subset_selfies(mols, subset_size))"
   ]
  }
 ],
 "metadata": {
  "interpreter": {
   "hash": "8570a9ca3b8bf6b03388ea45891206e331d4d85e0184a6b4e50992da33f43ff4"
  },
  "kernelspec": {
   "display_name": "Python 3 (ipykernel)",
   "language": "python",
   "name": "python3"
  },
  "language_info": {
   "codemirror_mode": {
    "name": "ipython",
    "version": 3
   },
   "file_extension": ".py",
   "mimetype": "text/x-python",
   "name": "python",
   "nbconvert_exporter": "python",
   "pygments_lexer": "ipython3",
   "version": "3.10.4"
  }
 },
 "nbformat": 4,
 "nbformat_minor": 4
}
